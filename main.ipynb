{
 "cells": [
  {
   "cell_type": "code",
   "execution_count": 26,
   "metadata": {},
   "outputs": [],
   "source": [
    "import cv2\n",
    "import os\n",
    "import base64\n",
    "import requests\n",
    "import pickle\n",
    "import numpy as np\n",
    "from sklearn.tree import DecisionTreeClassifier\n",
    "from sklearn import metrics"
   ]
  },
  {
   "cell_type": "code",
   "execution_count": 16,
   "metadata": {},
   "outputs": [],
   "source": [
    "#ส่วนนี้เป็นการเชื่อมต่อข้อมูล HOG\n",
    "url = \"http://localhost:8080/api/gethog\"\n",
    "\n",
    "\n",
    "def img2vec(img):\n",
    "    v, buffer = cv2.imencode(\".jpg\", img)\n",
    "    img_str = base64.b64encode(buffer)\n",
    "    # print(img_str)\n",
    "    data = \"image data,\"+str.split(str(img_str),\"'\")[1]\n",
    "    # print(data)\n",
    "    data = data.split(\",\")[1]\n",
    "    response = requests.get(url, json={\"img\":data})\n",
    "    return response.json()[\"Hog\"]\n"
   ]
  },
  {
   "cell_type": "code",
   "execution_count": 19,
   "metadata": {},
   "outputs": [
    {
     "name": "stdout",
     "output_type": "stream",
     "text": [
      "data preparation is done\n"
     ]
    }
   ],
   "source": [
    "#นำข้อมูล Train มาสร้าง pk\n",
    "list_data = []\n",
    "path = \"dataset\\\\train\"\n",
    "\n",
    "i=0\n",
    "for subfolder in os.listdir(path):\n",
    "    # print(subfolder)\n",
    "    for f in os.listdir(os.path.join(path,subfolder)):\n",
    "        img = cv2.imread(os.path.join(path,subfolder)+\"\\\\\"+f)\n",
    "        img_hog = img2vec(img)\n",
    "        img_hog.append(i)\n",
    "        list_data.append(img_hog)\n",
    "        # print(i,os.path.join(path,subfolder)+\"\\\\\"+f)\n",
    "        # print(os.path.join(path,subfolder)+\"\\\\\"+f)\n",
    "    i=i+1\n",
    "write_path = \"carTrainModel.pkl\"\n",
    "pickle.dump(list_data, open(write_path,\"wb\"))\n",
    "print(\"data preparation is done\")"
   ]
  },
  {
   "cell_type": "code",
   "execution_count": 20,
   "metadata": {},
   "outputs": [
    {
     "name": "stdout",
     "output_type": "stream",
     "text": [
      "data preparation is done\n"
     ]
    }
   ],
   "source": [
    "#นำข้อมูล Test มาสร้าง pk\n",
    "list_data = []\n",
    "path = \"dataset\\\\test\"\n",
    "\n",
    "i=0\n",
    "for subfolder in os.listdir(path):\n",
    "    # print(subfolder)\n",
    "    for f in os.listdir(os.path.join(path,subfolder)):\n",
    "        img = cv2.imread(os.path.join(path,subfolder)+\"\\\\\"+f)\n",
    "        img_hog = img2vec(img)\n",
    "        img_hog.append(i)\n",
    "        list_data.append(img_hog)\n",
    "    i=i+1\n",
    "write_path = \"carTestModel.pkl\"\n",
    "pickle.dump(list_data, open(write_path,\"wb\"))\n",
    "print(\"data preparation is done\")"
   ]
  },
  {
   "cell_type": "code",
   "execution_count": 22,
   "metadata": {},
   "outputs": [],
   "source": [
    "#ทำการ load flie ขอมูลที่สร้าง\n",
    "carVectors = pickle.load(open('carTrainModel.pkl','rb'))\n",
    "carVectors_np = np.array(carVectors)\n",
    "X_train = carVectors_np[:,0:-1]\n",
    "Y_train = carVectors_np[:,-1]"
   ]
  },
  {
   "cell_type": "code",
   "execution_count": 23,
   "metadata": {},
   "outputs": [],
   "source": [
    "carVectors = pickle.load(open('carTestModel.pkl','rb'))\n",
    "carVectors_np = np.array(carVectors)\n",
    "X_test = carVectors_np[:,0:-1]\n",
    "Y_test = carVectors_np[:,-1]"
   ]
  },
  {
   "cell_type": "code",
   "execution_count": 27,
   "metadata": {},
   "outputs": [],
   "source": [
    "clf = DecisionTreeClassifier()\n",
    "clf = clf.fit(X_train,Y_train)\n",
    "\n",
    "y_pred = clf.predict(X_test)"
   ]
  },
  {
   "cell_type": "code",
   "execution_count": 28,
   "metadata": {},
   "outputs": [
    {
     "name": "stdout",
     "output_type": "stream",
     "text": [
      "Accuracy: 0.45633456334563344\n"
     ]
    }
   ],
   "source": [
    "print(\"Accuracy:\",metrics.accuracy_score(Y_test , y_pred))"
   ]
  },
  {
   "cell_type": "code",
   "execution_count": 29,
   "metadata": {},
   "outputs": [
    {
     "name": "stdout",
     "output_type": "stream",
     "text": [
      "Confusion Matrix: [[81 13 12 33 17 18 25]\n",
      " [ 5 38  3  8  4  1  8]\n",
      " [15  5 27  4  4  6 14]\n",
      " [26  5  8  7  7  4 17]\n",
      " [16  7  2  0 53  2 22]\n",
      " [ 8  2 10  7  2 69  8]\n",
      " [23 21 16 10 19  5 96]]\n"
     ]
    }
   ],
   "source": [
    "print(\"Confusion Matrix:\", metrics.confusion_matrix(Y_test , y_pred))"
   ]
  },
  {
   "cell_type": "code",
   "execution_count": 30,
   "metadata": {},
   "outputs": [
    {
     "name": "stdout",
     "output_type": "stream",
     "text": [
      "(3352, 8100)\n",
      "(813, 8100)\n",
      "(3352,)\n",
      "(813,)\n"
     ]
    }
   ],
   "source": [
    "print(X_train.shape)\n",
    "print(X_test.shape)\n",
    "print(Y_train.shape)\n",
    "print(Y_test.shape)"
   ]
  },
  {
   "cell_type": "code",
   "execution_count": 31,
   "metadata": {},
   "outputs": [],
   "source": [
    "#นำmodel ที่เทรนแล้ว มาสร้าง model\n",
    "path_model = \"carBandModel.pk\"\n",
    "pickle.dump(clf, open(path_model,\"wb\"))"
   ]
  }
 ],
 "metadata": {
  "kernelspec": {
   "display_name": "Python 3",
   "language": "python",
   "name": "python3"
  },
  "language_info": {
   "codemirror_mode": {
    "name": "ipython",
    "version": 3
   },
   "file_extension": ".py",
   "mimetype": "text/x-python",
   "name": "python",
   "nbconvert_exporter": "python",
   "pygments_lexer": "ipython3",
   "version": "3.9.13"
  },
  "orig_nbformat": 4
 },
 "nbformat": 4,
 "nbformat_minor": 2
}
